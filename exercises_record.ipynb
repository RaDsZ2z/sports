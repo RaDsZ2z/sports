{
 "cells": [
  {
   "cell_type": "code",
   "execution_count": 5,
   "id": "77457a0b-f079-4e6b-86ac-b5fe288f2342",
   "metadata": {},
   "outputs": [
    {
     "data": {
      "text/html": [
       "<div>\n",
       "<style scoped>\n",
       "    .dataframe tbody tr th:only-of-type {\n",
       "        vertical-align: middle;\n",
       "    }\n",
       "\n",
       "    .dataframe tbody tr th {\n",
       "        vertical-align: top;\n",
       "    }\n",
       "\n",
       "    .dataframe thead th {\n",
       "        text-align: right;\n",
       "    }\n",
       "</style>\n",
       "<table border=\"1\" class=\"dataframe\">\n",
       "  <thead>\n",
       "    <tr style=\"text-align: right;\">\n",
       "      <th></th>\n",
       "      <th>卧推</th>\n",
       "      <th>硬拉</th>\n",
       "      <th>有氧</th>\n",
       "      <th>深蹲</th>\n",
       "    </tr>\n",
       "    <tr>\n",
       "      <th>date</th>\n",
       "      <th></th>\n",
       "      <th></th>\n",
       "      <th></th>\n",
       "      <th></th>\n",
       "    </tr>\n",
       "  </thead>\n",
       "  <tbody>\n",
       "    <tr>\n",
       "      <th>2025/02/28</th>\n",
       "      <td>15kg/15x3</td>\n",
       "      <td>15kg/12x3</td>\n",
       "      <td>放松慢跑/15min</td>\n",
       "      <td>NaN</td>\n",
       "    </tr>\n",
       "    <tr>\n",
       "      <th>2025/03/01</th>\n",
       "      <td>NaN</td>\n",
       "      <td>20kg/12x3</td>\n",
       "      <td>慢跑/30min</td>\n",
       "      <td>NaN</td>\n",
       "    </tr>\n",
       "    <tr>\n",
       "      <th>2025/03/02</th>\n",
       "      <td>20kg/12x3</td>\n",
       "      <td>NaN</td>\n",
       "      <td>慢跑/17min</td>\n",
       "      <td>30kg/12x3</td>\n",
       "    </tr>\n",
       "  </tbody>\n",
       "</table>\n",
       "</div>"
      ],
      "text/plain": [
       "                   卧推         硬拉          有氧         深蹲\n",
       "date                                                   \n",
       "2025/02/28  15kg/15x3  15kg/12x3  放松慢跑/15min        NaN\n",
       "2025/03/01        NaN  20kg/12x3    慢跑/30min        NaN\n",
       "2025/03/02  20kg/12x3        NaN    慢跑/17min  30kg/12x3"
      ]
     },
     "execution_count": 5,
     "metadata": {},
     "output_type": "execute_result"
    }
   ],
   "source": [
    "import pandas as pd\n",
    "data = pd.read_csv('./data.csv',index_col=0)\n",
    "data"
   ]
  }
 ],
 "metadata": {
  "kernelspec": {
   "display_name": "Python 3 (ipykernel)",
   "language": "python",
   "name": "python3"
  },
  "language_info": {
   "codemirror_mode": {
    "name": "ipython",
    "version": 3
   },
   "file_extension": ".py",
   "mimetype": "text/x-python",
   "name": "python",
   "nbconvert_exporter": "python",
   "pygments_lexer": "ipython3",
   "version": "3.12.4"
  }
 },
 "nbformat": 4,
 "nbformat_minor": 5
}
